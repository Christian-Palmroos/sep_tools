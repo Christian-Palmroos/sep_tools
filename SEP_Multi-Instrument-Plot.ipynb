{
 "cells": [
  {
   "cell_type": "markdown",
   "metadata": {},
   "source": [
    "## Multi Instrument Plot\n",
    "This tool downloads and visualizes time-series data of various instruments of a selected spacecraft including solar energetic particle intensities, solar wind plasma and magnetic field data. \n",
    "\n",
    "Selected remote-sensing observations such as radio spectrograms or X-ray light curves are also available.\n",
    "\n",
    "#### Import tools and display options\n",
    "Energy channel selection: click, hold and drag mouse, or hold Shift and click for range selection, or hold Ctrl/Cmd and click for selecting individual channels.\n",
    "\n",
    "GOES manual satellite selection: check to manually pick GOES satellite during data loading. When left unchecked, the highest numbered satellite is picked automatically.\n"
   ]
  },
  {
   "cell_type": "code",
   "execution_count": 1,
   "metadata": {},
   "outputs": [],
   "source": [
    "import os\n",
    "import numpy as np\n",
    "from seppy.util import jupyterhub_data_path\n",
    "import multi_inst_plots as m"
   ]
  },
  {
   "cell_type": "code",
   "execution_count": 2,
   "metadata": {},
   "outputs": [
    {
     "data": {
      "application/vnd.jupyter.widget-view+json": {
       "model_id": "d3019a1ec5aa487483329e591dacac16",
       "version_major": 2,
       "version_minor": 0
      },
      "text/plain": [
       "HBox(children=(VBox(children=(Output(layout=Layout(width='auto')), Output(layout=Layout(width='auto')))), Outp…"
      ]
     },
     "metadata": {},
     "output_type": "display_data"
    }
   ],
   "source": [
    "m.options.show()"
   ]
  },
  {
   "cell_type": "markdown",
   "metadata": {},
   "source": [
    "#### Data directory\n",
    "\n",
    "Define where to download files. Running this cell will set it to \\<current directory\\>/data, or if run on the project's JupyterHub server, set it to a common data folder in the base directory. Setting to None will use sunpy's default data directory. "
   ]
  },
  {
   "cell_type": "code",
   "execution_count": 3,
   "metadata": {},
   "outputs": [],
   "source": [
    "m.options.path = f\"{os.getcwd()}{os.sep}data\"\n",
    "m.options.path = jupyterhub_data_path(m.options.path)"
   ]
  },
  {
   "cell_type": "markdown",
   "metadata": {},
   "source": [
    "#### Define plot range (optional)\n",
    "\n",
    "You can optionally define a smaller plotting range here. Re-run this cell after changing start/end dates."
   ]
  },
  {
   "cell_type": "code",
   "execution_count": 5,
   "metadata": {},
   "outputs": [
    {
     "data": {
      "application/vnd.jupyter.widget-view+json": {
       "model_id": "0f99f7b096f14fe387e744f3bf121c77",
       "version_major": 2,
       "version_minor": 0
      },
      "text/plain": [
       "HBox(children=(SelectionRangeSlider(continuous_update=False, description='Plot range', index=(0, 48), options=…"
      ]
     },
     "metadata": {},
     "output_type": "display_data"
    }
   ],
   "source": [
    "m.plot_range(m.options.startdate.value, m.options.enddate.value)"
   ]
  },
  {
   "cell_type": "markdown",
   "metadata": {},
   "source": [
    "#### Load data\n",
    "Run this cell whenever instruments and dates are re-selected."
   ]
  },
  {
   "cell_type": "code",
   "execution_count": null,
   "metadata": {},
   "outputs": [
    {
     "name": "stdout",
     "output_type": "stream",
     "text": [
      "Loading STEREO A data for range: 2022-03-14 00:00:00 - 2022-03-16 00:00:00\n",
      "\n",
      "\n",
      "\n",
      "\n",
      "\n",
      "\n",
      "Fetching GOES-17 data for 2022-03-14 00:00:00 - 2022-03-16 00:00:00\n"
     ]
    },
    {
     "data": {
      "application/vnd.jupyter.widget-view+json": {
       "model_id": "0b6817e9137e44deb405a522320575b3",
       "version_major": 2,
       "version_minor": 0
      },
      "text/plain": [
       "Files Downloaded:   0%|          | 0/3 [00:00<?, ?file/s]"
      ]
     },
     "metadata": {},
     "output_type": "display_data"
    }
   ],
   "source": [
    "data, metadata = m.load_data() # returns non-averaged data"
   ]
  },
  {
   "cell_type": "code",
   "execution_count": null,
   "metadata": {},
   "outputs": [],
   "source": []
  },
  {
   "cell_type": "markdown",
   "metadata": {},
   "source": [
    "#### Energy channel selection\n",
    "Print out energy channel info and choose from "
   ]
  },
  {
   "cell_type": "code",
   "execution_count": 5,
   "metadata": {},
   "outputs": [
    {
     "data": {
      "application/vnd.microsoft.datawrangler.viewer.v0+json": {
       "columns": [
        {
         "name": "index",
         "rawType": "int64",
         "type": "integer"
        },
        {
         "name": "SEPT Electrons",
         "rawType": "object",
         "type": "unknown"
        },
        {
         "name": "SEPT Protons",
         "rawType": "object",
         "type": "string"
        },
        {
         "name": "HET Electrons",
         "rawType": "object",
         "type": "unknown"
        },
        {
         "name": "HET Protons",
         "rawType": "object",
         "type": "unknown"
        }
       ],
       "conversionMethod": "pd.DataFrame",
       "ref": "d26cb305-47f3-4850-9221-7e82a3d67236",
       "rows": [
        [
         "0",
         "45.0-55.0 keV",
         "84.1-92.7 keV",
         "0.7 - 1.4 MeV",
         "13.6 - 15.1 MeV "
        ],
        [
         "1",
         "55.0-65.0 keV",
         "92.7-101.3 keV",
         "1.4 - 2.8 MeV",
         "15.0 - 17.1 MeV "
        ],
        [
         "2",
         "65.0-75.0 keV",
         "101.3-110.0 keV",
         "2.8 - 4.0 MeV",
         "17.0 - 19.3 MeV "
        ],
        [
         "3",
         "75.0-85.0 keV",
         "110.0-118.6 keV",
         null,
         "20.8 - 23.8 MeV "
        ],
        [
         "4",
         "85.0-105.0 keV",
         "118.6-137.0 keV",
         null,
         "23.8 - 26.4 MeV "
        ],
        [
         "5",
         "105.0-125.0 keV",
         "137.0-155.8 keV",
         null,
         "26.3 - 29.7 MeV "
        ],
        [
         "6",
         "125.0-145.0 keV",
         "155.8-174.6 keV",
         null,
         "29.6 - 33. 4 MeV"
        ],
        [
         "7",
         "145.0-165.0 keV",
         "174.6-192.6 keV",
         null,
         "33.4 - 35.8 MeV "
        ],
        [
         "8",
         "165.0-195.0 keV",
         "192.6-219.5 keV",
         null,
         "35.6 - 40.5 MeV "
        ],
        [
         "9",
         "195.0-225.0 keV",
         "219.5-246.4 keV",
         null,
         "40 - 60 MeV     "
        ],
        [
         "10",
         "225.0-255.0 keV",
         "246.4-273.4 keV",
         null,
         "60 - 100 MeV    "
        ],
        [
         "11",
         "255.0-295.0 keV",
         " 273.4-312.0 keV",
         null,
         null
        ],
        [
         "12",
         "295.0-335.0 keV",
         "312.0-350.7 keV",
         null,
         null
        ],
        [
         "13",
         "335.0-375.0 keV",
         "350.7-389.5 keV",
         null,
         null
        ],
        [
         "14",
         "375.0-425.0 keV",
         "389.5-438.1 keV",
         null,
         null
        ],
        [
         "15",
         null,
         "438.1-496.4 keV",
         null,
         null
        ],
        [
         "16",
         null,
         "496.4-554.8 keV",
         null,
         null
        ],
        [
         "17",
         null,
         " 554.8-622.9 keV",
         null,
         null
        ],
        [
         "18",
         null,
         "622.9-700.7 keV",
         null,
         null
        ],
        [
         "19",
         null,
         "700.7-788.3 keV",
         null,
         null
        ],
        [
         "20",
         null,
         "788.3-875.8 keV",
         null,
         null
        ],
        [
         "21",
         null,
         "875.8- 982.8 keV",
         null,
         null
        ],
        [
         "22",
         null,
         "982.8-1111.9 keV",
         null,
         null
        ],
        [
         "23",
         null,
         "1111.9-1250.8 keV",
         null,
         null
        ],
        [
         "24",
         null,
         "1250.8-1399.7 keV",
         null,
         null
        ],
        [
         "25",
         null,
         "1399.7-1578.4 keV",
         null,
         null
        ],
        [
         "26",
         null,
         "1578.4-1767.0 keV",
         null,
         null
        ],
        [
         "27",
         null,
         "1767.0-1985.3 keV",
         null,
         null
        ],
        [
         "28",
         null,
         "1985.3-2223.6 keV",
         null,
         null
        ],
        [
         "29",
         null,
         "2223.6-6500.0 keV",
         null,
         null
        ]
       ],
       "shape": {
        "columns": 4,
        "rows": 30
       }
      },
      "text/html": [
       "<div>\n",
       "<style scoped>\n",
       "    .dataframe tbody tr th:only-of-type {\n",
       "        vertical-align: middle;\n",
       "    }\n",
       "\n",
       "    .dataframe tbody tr th {\n",
       "        vertical-align: top;\n",
       "    }\n",
       "\n",
       "    .dataframe thead th {\n",
       "        text-align: right;\n",
       "    }\n",
       "</style>\n",
       "<table border=\"1\" class=\"dataframe\">\n",
       "  <thead>\n",
       "    <tr style=\"text-align: right;\">\n",
       "      <th></th>\n",
       "      <th>SEPT Electrons</th>\n",
       "      <th>SEPT Protons</th>\n",
       "      <th>HET Electrons</th>\n",
       "      <th>HET Protons</th>\n",
       "    </tr>\n",
       "  </thead>\n",
       "  <tbody>\n",
       "    <tr>\n",
       "      <th>0</th>\n",
       "      <td>45.0-55.0 keV</td>\n",
       "      <td>84.1-92.7 keV</td>\n",
       "      <td>0.7 - 1.4 MeV</td>\n",
       "      <td>13.6 - 15.1 MeV</td>\n",
       "    </tr>\n",
       "    <tr>\n",
       "      <th>1</th>\n",
       "      <td>55.0-65.0 keV</td>\n",
       "      <td>92.7-101.3 keV</td>\n",
       "      <td>1.4 - 2.8 MeV</td>\n",
       "      <td>15.0 - 17.1 MeV</td>\n",
       "    </tr>\n",
       "    <tr>\n",
       "      <th>2</th>\n",
       "      <td>65.0-75.0 keV</td>\n",
       "      <td>101.3-110.0 keV</td>\n",
       "      <td>2.8 - 4.0 MeV</td>\n",
       "      <td>17.0 - 19.3 MeV</td>\n",
       "    </tr>\n",
       "    <tr>\n",
       "      <th>3</th>\n",
       "      <td>75.0-85.0 keV</td>\n",
       "      <td>110.0-118.6 keV</td>\n",
       "      <td>NaN</td>\n",
       "      <td>20.8 - 23.8 MeV</td>\n",
       "    </tr>\n",
       "    <tr>\n",
       "      <th>4</th>\n",
       "      <td>85.0-105.0 keV</td>\n",
       "      <td>118.6-137.0 keV</td>\n",
       "      <td>NaN</td>\n",
       "      <td>23.8 - 26.4 MeV</td>\n",
       "    </tr>\n",
       "    <tr>\n",
       "      <th>5</th>\n",
       "      <td>105.0-125.0 keV</td>\n",
       "      <td>137.0-155.8 keV</td>\n",
       "      <td>NaN</td>\n",
       "      <td>26.3 - 29.7 MeV</td>\n",
       "    </tr>\n",
       "    <tr>\n",
       "      <th>6</th>\n",
       "      <td>125.0-145.0 keV</td>\n",
       "      <td>155.8-174.6 keV</td>\n",
       "      <td>NaN</td>\n",
       "      <td>29.6 - 33. 4 MeV</td>\n",
       "    </tr>\n",
       "    <tr>\n",
       "      <th>7</th>\n",
       "      <td>145.0-165.0 keV</td>\n",
       "      <td>174.6-192.6 keV</td>\n",
       "      <td>NaN</td>\n",
       "      <td>33.4 - 35.8 MeV</td>\n",
       "    </tr>\n",
       "    <tr>\n",
       "      <th>8</th>\n",
       "      <td>165.0-195.0 keV</td>\n",
       "      <td>192.6-219.5 keV</td>\n",
       "      <td>NaN</td>\n",
       "      <td>35.6 - 40.5 MeV</td>\n",
       "    </tr>\n",
       "    <tr>\n",
       "      <th>9</th>\n",
       "      <td>195.0-225.0 keV</td>\n",
       "      <td>219.5-246.4 keV</td>\n",
       "      <td>NaN</td>\n",
       "      <td>40 - 60 MeV</td>\n",
       "    </tr>\n",
       "    <tr>\n",
       "      <th>10</th>\n",
       "      <td>225.0-255.0 keV</td>\n",
       "      <td>246.4-273.4 keV</td>\n",
       "      <td>NaN</td>\n",
       "      <td>60 - 100 MeV</td>\n",
       "    </tr>\n",
       "    <tr>\n",
       "      <th>11</th>\n",
       "      <td>255.0-295.0 keV</td>\n",
       "      <td>273.4-312.0 keV</td>\n",
       "      <td>NaN</td>\n",
       "      <td>NaN</td>\n",
       "    </tr>\n",
       "    <tr>\n",
       "      <th>12</th>\n",
       "      <td>295.0-335.0 keV</td>\n",
       "      <td>312.0-350.7 keV</td>\n",
       "      <td>NaN</td>\n",
       "      <td>NaN</td>\n",
       "    </tr>\n",
       "    <tr>\n",
       "      <th>13</th>\n",
       "      <td>335.0-375.0 keV</td>\n",
       "      <td>350.7-389.5 keV</td>\n",
       "      <td>NaN</td>\n",
       "      <td>NaN</td>\n",
       "    </tr>\n",
       "    <tr>\n",
       "      <th>14</th>\n",
       "      <td>375.0-425.0 keV</td>\n",
       "      <td>389.5-438.1 keV</td>\n",
       "      <td>NaN</td>\n",
       "      <td>NaN</td>\n",
       "    </tr>\n",
       "    <tr>\n",
       "      <th>15</th>\n",
       "      <td>NaN</td>\n",
       "      <td>438.1-496.4 keV</td>\n",
       "      <td>NaN</td>\n",
       "      <td>NaN</td>\n",
       "    </tr>\n",
       "    <tr>\n",
       "      <th>16</th>\n",
       "      <td>NaN</td>\n",
       "      <td>496.4-554.8 keV</td>\n",
       "      <td>NaN</td>\n",
       "      <td>NaN</td>\n",
       "    </tr>\n",
       "    <tr>\n",
       "      <th>17</th>\n",
       "      <td>NaN</td>\n",
       "      <td>554.8-622.9 keV</td>\n",
       "      <td>NaN</td>\n",
       "      <td>NaN</td>\n",
       "    </tr>\n",
       "    <tr>\n",
       "      <th>18</th>\n",
       "      <td>NaN</td>\n",
       "      <td>622.9-700.7 keV</td>\n",
       "      <td>NaN</td>\n",
       "      <td>NaN</td>\n",
       "    </tr>\n",
       "    <tr>\n",
       "      <th>19</th>\n",
       "      <td>NaN</td>\n",
       "      <td>700.7-788.3 keV</td>\n",
       "      <td>NaN</td>\n",
       "      <td>NaN</td>\n",
       "    </tr>\n",
       "    <tr>\n",
       "      <th>20</th>\n",
       "      <td>NaN</td>\n",
       "      <td>788.3-875.8 keV</td>\n",
       "      <td>NaN</td>\n",
       "      <td>NaN</td>\n",
       "    </tr>\n",
       "    <tr>\n",
       "      <th>21</th>\n",
       "      <td>NaN</td>\n",
       "      <td>875.8- 982.8 keV</td>\n",
       "      <td>NaN</td>\n",
       "      <td>NaN</td>\n",
       "    </tr>\n",
       "    <tr>\n",
       "      <th>22</th>\n",
       "      <td>NaN</td>\n",
       "      <td>982.8-1111.9 keV</td>\n",
       "      <td>NaN</td>\n",
       "      <td>NaN</td>\n",
       "    </tr>\n",
       "    <tr>\n",
       "      <th>23</th>\n",
       "      <td>NaN</td>\n",
       "      <td>1111.9-1250.8 keV</td>\n",
       "      <td>NaN</td>\n",
       "      <td>NaN</td>\n",
       "    </tr>\n",
       "    <tr>\n",
       "      <th>24</th>\n",
       "      <td>NaN</td>\n",
       "      <td>1250.8-1399.7 keV</td>\n",
       "      <td>NaN</td>\n",
       "      <td>NaN</td>\n",
       "    </tr>\n",
       "    <tr>\n",
       "      <th>25</th>\n",
       "      <td>NaN</td>\n",
       "      <td>1399.7-1578.4 keV</td>\n",
       "      <td>NaN</td>\n",
       "      <td>NaN</td>\n",
       "    </tr>\n",
       "    <tr>\n",
       "      <th>26</th>\n",
       "      <td>NaN</td>\n",
       "      <td>1578.4-1767.0 keV</td>\n",
       "      <td>NaN</td>\n",
       "      <td>NaN</td>\n",
       "    </tr>\n",
       "    <tr>\n",
       "      <th>27</th>\n",
       "      <td>NaN</td>\n",
       "      <td>1767.0-1985.3 keV</td>\n",
       "      <td>NaN</td>\n",
       "      <td>NaN</td>\n",
       "    </tr>\n",
       "    <tr>\n",
       "      <th>28</th>\n",
       "      <td>NaN</td>\n",
       "      <td>1985.3-2223.6 keV</td>\n",
       "      <td>NaN</td>\n",
       "      <td>NaN</td>\n",
       "    </tr>\n",
       "    <tr>\n",
       "      <th>29</th>\n",
       "      <td>NaN</td>\n",
       "      <td>2223.6-6500.0 keV</td>\n",
       "      <td>NaN</td>\n",
       "      <td>NaN</td>\n",
       "    </tr>\n",
       "  </tbody>\n",
       "</table>\n",
       "</div>"
      ],
      "text/plain": [
       "     SEPT Electrons       SEPT Protons  HET Electrons       HET Protons\n",
       "0     45.0-55.0 keV      84.1-92.7 keV  0.7 - 1.4 MeV  13.6 - 15.1 MeV \n",
       "1     55.0-65.0 keV     92.7-101.3 keV  1.4 - 2.8 MeV  15.0 - 17.1 MeV \n",
       "2     65.0-75.0 keV    101.3-110.0 keV  2.8 - 4.0 MeV  17.0 - 19.3 MeV \n",
       "3     75.0-85.0 keV    110.0-118.6 keV            NaN  20.8 - 23.8 MeV \n",
       "4    85.0-105.0 keV    118.6-137.0 keV            NaN  23.8 - 26.4 MeV \n",
       "5   105.0-125.0 keV    137.0-155.8 keV            NaN  26.3 - 29.7 MeV \n",
       "6   125.0-145.0 keV    155.8-174.6 keV            NaN  29.6 - 33. 4 MeV\n",
       "7   145.0-165.0 keV    174.6-192.6 keV            NaN  33.4 - 35.8 MeV \n",
       "8   165.0-195.0 keV    192.6-219.5 keV            NaN  35.6 - 40.5 MeV \n",
       "9   195.0-225.0 keV    219.5-246.4 keV            NaN  40 - 60 MeV     \n",
       "10  225.0-255.0 keV    246.4-273.4 keV            NaN  60 - 100 MeV    \n",
       "11  255.0-295.0 keV    273.4-312.0 keV            NaN               NaN\n",
       "12  295.0-335.0 keV    312.0-350.7 keV            NaN               NaN\n",
       "13  335.0-375.0 keV    350.7-389.5 keV            NaN               NaN\n",
       "14  375.0-425.0 keV    389.5-438.1 keV            NaN               NaN\n",
       "15              NaN    438.1-496.4 keV            NaN               NaN\n",
       "16              NaN    496.4-554.8 keV            NaN               NaN\n",
       "17              NaN    554.8-622.9 keV            NaN               NaN\n",
       "18              NaN    622.9-700.7 keV            NaN               NaN\n",
       "19              NaN    700.7-788.3 keV            NaN               NaN\n",
       "20              NaN    788.3-875.8 keV            NaN               NaN\n",
       "21              NaN   875.8- 982.8 keV            NaN               NaN\n",
       "22              NaN   982.8-1111.9 keV            NaN               NaN\n",
       "23              NaN  1111.9-1250.8 keV            NaN               NaN\n",
       "24              NaN  1250.8-1399.7 keV            NaN               NaN\n",
       "25              NaN  1399.7-1578.4 keV            NaN               NaN\n",
       "26              NaN  1578.4-1767.0 keV            NaN               NaN\n",
       "27              NaN  1767.0-1985.3 keV            NaN               NaN\n",
       "28              NaN  1985.3-2223.6 keV            NaN               NaN\n",
       "29              NaN  2223.6-6500.0 keV            NaN               NaN"
      ]
     },
     "metadata": {},
     "output_type": "display_data"
    },
    {
     "data": {
      "application/vnd.jupyter.widget-view+json": {
       "model_id": "ed2b2d539fe94fcda2ea515c9325e918",
       "version_major": 2,
       "version_minor": 0
      },
      "text/plain": [
       "HBox(children=(SelectMultiple(description='SEPT electrons', index=(0, 2, 4, 6, 8, 10, 12, 14), options=(0, 1, …"
      ]
     },
     "metadata": {},
     "output_type": "display_data"
    }
   ],
   "source": [
    "m.energy_channel_selection()"
   ]
  },
  {
   "cell_type": "markdown",
   "metadata": {},
   "source": [
    "Alternatively, you can use ranges (change only the step argument)."
   ]
  },
  {
   "cell_type": "code",
   "execution_count": null,
   "metadata": {},
   "outputs": [],
   "source": [
    "# STEREO\n",
    "m.options.ster_ch_sept_e.value = tuple(np.arange(start=0, stop=15, step=2))\n",
    "m.options.ster_ch_sept_p.value = tuple(np.arange(start=0, stop=30, step=4))\n",
    "m.options.ster_ch_het_e.value = tuple(np.arange(start=0, stop=3, step=1))\n",
    "m.options.ster_ch_het_p.value = tuple(np.arange(start=0, stop=11, step=2))\n",
    "\n",
    "# L1\n",
    "\n",
    "\n",
    "\n",
    "# PSP\n",
    "m.options.psp_ch_epilo_pe.value = tuple(np.arange(start=0, stop=15, step=2))    # electrons\n",
    "m.options.psp_ch_epilo_ic.value = tuple(np.arange(start=0, stop=30, step=4))    # protons/ions\n",
    "m.options.psp_ch_het_e.value = tuple(np.arange(start=0, stop=3, step=1))\n",
    "m.options.psp_ch_het_p.value = tuple(np.arange(start=0, stop=11, step=2))\n",
    "\n",
    "# SOLO\n",
    "m.options.solo_ch_ept_e.value = tuple(np.arange(start=0, stop=16, step=2))\n",
    "m.options.solo_ch_ept_p.value = tuple(np.arange(start=0, stop=31, step=5))\n",
    "m.options.solo_ch_het_e.value = tuple(np.arange(start=0, stop=4, step=1))\n",
    "m.options.solo_ch_het_p.value = tuple(np.arange(start=0, stop=36, step=5))"
   ]
  },
  {
   "cell_type": "markdown",
   "metadata": {},
   "source": [
    "#### Plot data\n",
    "Figure and axes are returned for further tweaking capability."
   ]
  },
  {
   "cell_type": "code",
   "execution_count": null,
   "metadata": {},
   "outputs": [],
   "source": [
    "fig, axs = m.make_plot()"
   ]
  },
  {
   "cell_type": "markdown",
   "metadata": {},
   "source": [
    "### Saving figures\n",
    "\n",
    "You can usually save a figure from the Notebook by right-clicking on it while holding down the ⇧ Shift key, then select \"Save Image As...\" (or similar). Alternatively, run the following cell."
   ]
  },
  {
   "cell_type": "code",
   "execution_count": null,
   "metadata": {},
   "outputs": [],
   "source": [
    "fig.savefig(\"SEP_multi-instrument_plot.png\", bbox_inches=\"tight\")"
   ]
  }
 ],
 "metadata": {
  "kernelspec": {
   "display_name": "sep_tools",
   "language": "python",
   "name": "python3"
  },
  "language_info": {
   "codemirror_mode": {
    "name": "ipython",
    "version": 3
   },
   "file_extension": ".py",
   "mimetype": "text/x-python",
   "name": "python",
   "nbconvert_exporter": "python",
   "pygments_lexer": "ipython3",
   "version": "3.12.9"
  }
 },
 "nbformat": 4,
 "nbformat_minor": 4
}
