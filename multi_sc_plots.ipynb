{
 "cells": [
  {
   "cell_type": "code",
   "execution_count": 1,
   "id": "47dabb2c-253b-4a4e-8900-4493e5d99f94",
   "metadata": {},
   "outputs": [],
   "source": [
    "from multi_sc_plots import Event\n",
    "import datetime as dt\n",
    "import numpy as np\n",
    "import os\n",
    "import pandas as pd"
   ]
  },
  {
   "cell_type": "code",
   "execution_count": 2,
   "id": "a32d2c97-e6b0-48b9-b573-162c06d59bd6",
   "metadata": {},
   "outputs": [
    {
     "data": {
      "application/vnd.jupyter.widget-view+json": {
       "model_id": "05b44b3ba6014fd39334fb672203a587",
       "version_major": 2,
       "version_minor": 0
      },
      "text/plain": [
       "GridspecLayout(children=(HTML(value='<b>Electrons:</b>', layout=Layout(grid_area='widget001')), HTML(value='<b…"
      ]
     },
     "metadata": {},
     "output_type": "display_data"
    }
   ],
   "source": [
    "# initialize Event object and open instrument selection\n",
    "E = Event()\n",
    "instruments = E.instrument_selection()"
   ]
  },
  {
   "cell_type": "code",
   "execution_count": 3,
   "id": "6f87b32d-6178-4275-8859-eccf63559dd9",
   "metadata": {},
   "outputs": [],
   "source": [
    "# define period for data loading (understand most formats)\n",
    "startdate = dt.datetime(2023, 5, 9, 12, 0)\n",
    "enddate = \"2023/05/10 22:00:00\""
   ]
  },
  {
   "cell_type": "code",
   "execution_count": 4,
   "id": "9154a712-71d2-42af-8f46-c1e73f934f7a",
   "metadata": {},
   "outputs": [],
   "source": [
    "# optional: manually change some parameters before loading\n",
    "\n",
    "# E.psp_epilo_channel = 'F'"
   ]
  },
  {
   "cell_type": "code",
   "execution_count": 5,
   "id": "72b0b9e5-eafc-4a9f-af94-3dfad68ba04e",
   "metadata": {},
   "outputs": [
    {
     "data": {
      "text/plain": [
       "{'Parker Solar Probe/EPI-Hi HET': 'A',\n",
       " 'Parker Solar Probe/EPI-Lo PE': 3,\n",
       " 'Solar Orbiter/EPT': 'sun',\n",
       " 'Solar Orbiter/HET': 'sun',\n",
       " 'STEREO-A/SEPT': 'sun'}"
      ]
     },
     "metadata": {},
     "output_type": "display_data"
    }
   ],
   "source": [
    "# show default viewing/sector of instruments\n",
    "\n",
    "display(E.viewing)"
   ]
  },
  {
   "cell_type": "code",
   "execution_count": 6,
   "id": "18363802-8b8b-454b-b5a6-c785a672daca",
   "metadata": {},
   "outputs": [],
   "source": [
    "# overwrite viewing/sector for specific instruments ('asun' meaning 'anti-sun')\n",
    "\n",
    "E.viewing['Parker Solar Probe/EPI-Hi HET'] = 'A'  # 'A'='sun', 'B'='asun'\n",
    "E.viewing['Parker Solar Probe/EPI-Lo PE'] = 3  # 3='sun', 7='asun'\n",
    "E.viewing['Solar Orbiter/EPT'] = 'sun'  # 'asun', 'sun', 'north', 'south'\n",
    "E.viewing['Solar Orbiter/HET'] = 'sun'  # 'asun', 'sun', 'north', 'south'\n",
    "E.viewing['STEREO-A/SEPT'] = 'sun'  # 'asun', 'sun', 'north', 'south'"
   ]
  },
  {
   "cell_type": "code",
   "execution_count": null,
   "id": "4e665533-010d-4427-aaac-d3e906a36a1c",
   "metadata": {},
   "outputs": [
    {
     "name": "stderr",
     "output_type": "stream",
     "text": [
      "\u001b[1m\u001b[91mWARNING: \u001b[0mCareful: EPHIN ring off!\n"
     ]
    }
   ],
   "source": [
    "# load data based on selection from/into 'data_path'\n",
    "path = os.getcwd()+os.sep+'data'\n",
    "\n",
    "E.load_data(startdate, enddate, instruments, data_path=path)"
   ]
  },
  {
   "cell_type": "code",
   "execution_count": null,
   "id": "4d9cb3b5-9cfa-4486-9300-af3a3b637943",
   "metadata": {
    "scrolled": true
   },
   "outputs": [],
   "source": [
    "# display table with energy channels for loaded datasets (click left of table to expand it)\n",
    "E.print_energies()"
   ]
  },
  {
   "cell_type": "code",
   "execution_count": null,
   "id": "5ef952f8-4308-4cb1-9eec-a7f6a7ec69ab",
   "metadata": {},
   "outputs": [],
   "source": [
    "# select electron energy channels to be used (note: if the data has not beed loaded above, selecting the channel here won't have any effect!)\n",
    "\n",
    "E.channels_e['BepiColombo/SIXS e'] = [5, 6]  # 2 for 100 keV  # channel combination not supported!\n",
    "E.channels_e['Parker Solar Probe/EPI-Hi HET e'] = [3, 10]\n",
    "E.channels_e['Parker Solar Probe/EPI-Lo PE e'] = [4, 5]\n",
    "E.channels_e['SOHO/EPHIN e'] = 2  # channel combination not supported!\n",
    "E.channels_e['Solar Orbiter/EPT e'] = [6, 7] # L2: [14, 18]\n",
    "E.channels_e['Solar Orbiter/HET e'] = [0, 1]\n",
    "E.channels_e['STEREO-A/HET e'] = [0, 1]\n",
    "E.channels_e['STEREO-A/SEPT e'] = [6, 7]\n",
    "E.channels_e['WIND/3DP e'] = 3  # channel combination not supported!"
   ]
  },
  {
   "cell_type": "code",
   "execution_count": null,
   "id": "4de65758-154d-43ef-8cc5-b1e630bbb6f5",
   "metadata": {},
   "outputs": [],
   "source": [
    "# select proton/ion energy channels to be used (note: if the data has not beed loaded above, selecting the channel here won't have any effect!)\n",
    "\n",
    "E.channels_p['BepiColombo/SIXS p'] = [8, 9]  # channel combination not supported!\n",
    "E.channels_p['Parker Solar Probe/EPI-Hi HET p'] = [8, 9]\n",
    "E.channels_p['SOHO/ERNE-HED p'] = [3, 4]\n",
    "E.channels_p['Solar Orbiter/EPT p'] = [20, 21] # L2: [50, 56]\n",
    "E.channels_p['Solar Orbiter/HET p'] = [19, 24]\n",
    "E.channels_p['STEREO-A/HET p'] = [5, 8]\n",
    "E.channels_p['STEREO-A/SEPT p'] = [25, 30]\n",
    "E.channels_p['WIND/3DP p'] = 6  # channel combination not supported!"
   ]
  },
  {
   "cell_type": "code",
   "execution_count": null,
   "id": "5f104c8a-60b6-4c6b-8dcc-875013f1bf60",
   "metadata": {},
   "outputs": [],
   "source": [
    "# show default plot colors per spacecraft/instrument\n",
    "display(E.plot_colors)"
   ]
  },
  {
   "cell_type": "code",
   "execution_count": null,
   "id": "35ae7450-8e9d-4242-96ca-375072f848e0",
   "metadata": {},
   "outputs": [],
   "source": [
    "# change plot color per spacecraft/instrument (re-initialize the Event object to reset)\n",
    "E.plot_colors['Parker Solar Probe/EPI-Hi HET'] = 'blueviolet'"
   ]
  },
  {
   "cell_type": "code",
   "execution_count": null,
   "id": "23d28ff1-6d91-4edb-9036-e69f17a38b59",
   "metadata": {},
   "outputs": [],
   "source": [
    "# plot loaded data. optionally adjust time of plot.\n",
    "fig, axes = E.plot(averaging='1min', dict_plot_instruments=instruments)"
   ]
  },
  {
   "cell_type": "code",
   "execution_count": null,
   "id": "f9b0997b-648f-4b3e-80a7-0a1054f3685c",
   "metadata": {},
   "outputs": [],
   "source": [
    "# adjust averaging, plot range, updated instruments to plot from widget above:\n",
    "fig, axes = E.plot(averaging='5min', plot_range=[dt.datetime(2023, 5, 9, 18, 0), dt.datetime(2023, 5, 10, 2, 0)], dict_plot_instruments=instruments)"
   ]
  },
  {
   "cell_type": "markdown",
   "id": "bbb96751-62fc-4b9f-9ea4-332f79aa002a",
   "metadata": {},
   "source": [
    "---"
   ]
  },
  {
   "cell_type": "markdown",
   "id": "486707ad-7b84-43b3-82a2-7e67cc8b3252",
   "metadata": {},
   "source": [
    "## Edit the figure\n",
    "For example, at a vertical line at a given datetime"
   ]
  },
  {
   "cell_type": "code",
   "execution_count": null,
   "id": "5a237da4-9938-4d2e-8f61-bf4f951b7c7f",
   "metadata": {},
   "outputs": [],
   "source": [
    "for ax in axes:\n",
    "    ax.axvline(dt.datetime(2023, 5, 9, 18, 50), lw=2.5, ls=':', color='black')\n",
    "\n",
    "# show updated figure\n",
    "fig"
   ]
  },
  {
   "cell_type": "markdown",
   "id": "db1f8476-698b-4225-ad63-2b87341dda2f",
   "metadata": {},
   "source": [
    "---"
   ]
  },
  {
   "cell_type": "markdown",
   "id": "af1d093f-6a17-471a-a577-caa1aa0f2966",
   "metadata": {},
   "source": [
    "## Obtain SolarMACH plot"
   ]
  },
  {
   "cell_type": "code",
   "execution_count": null,
   "id": "4915de6e-3588-49cc-8f31-c9a3b9e8ed27",
   "metadata": {},
   "outputs": [],
   "source": [
    "from solarmach import SolarMACH"
   ]
  },
  {
   "cell_type": "code",
   "execution_count": null,
   "id": "1317454e-5c6e-45e2-9374-6a0ccd054958",
   "metadata": {},
   "outputs": [],
   "source": [
    "# spacecraft list defined above\n",
    "print(E.spacecraft)"
   ]
  },
  {
   "cell_type": "code",
   "execution_count": null,
   "id": "2e96b8ee-8592-4ee5-8d6c-c2442ea62e5c",
   "metadata": {},
   "outputs": [],
   "source": [
    "# make figure for startdate defined above, or define separely\n",
    "date = startdate  # startdate or or date = dt.datetime(2023, 5, 10, 18, 50) or date = '2023-05-10 18:50:00'\n",
    "\n",
    "# define position-sensitive solar wind speed per spacecraft, e.g., vsw_list = [400, 400, 400, 400, 400, 400, 400],\n",
    "# [350]*len(E.spacecraft) creates a list with 350 for each spacecraft.\n",
    "# or leave empty to let solarmach try to automatically obtain measured solar wind speeds from each spacecraft\n",
    "vsw_list = [350]*len(E.spacecraft) \n",
    "\n",
    "# initialize\n",
    "sm = SolarMACH(date, E.spacecraft, vsw_list, coord_sys='Carrington')\n",
    "\n",
    "# make plot\n",
    "sm.plot(markers='numbers')"
   ]
  },
  {
   "cell_type": "code",
   "execution_count": null,
   "id": "2b4e5a5d-1db5-41c8-8ab9-3fda4dcfd137",
   "metadata": {},
   "outputs": [],
   "source": [
    "# obtain data as Pandas DataFrame\n",
    "display(sm.coord_table)"
   ]
  },
  {
   "cell_type": "markdown",
   "id": "46cd91f2-4ff3-4170-8dce-87656e777c26",
   "metadata": {},
   "source": [
    "---"
   ]
  },
  {
   "cell_type": "markdown",
   "id": "44896a56-0dcb-4b70-8722-9b27b613a680",
   "metadata": {},
   "source": [
    "## Data details\n",
    "\n",
    "The following data sets are used in this tool. If not stated otherwise, they are CDF files obtained from CDAWeb:\n",
    "\n",
    "- Parker Solar Probe ISOIS EPI-Hi Level 2 HET 1-minute Rates ([Info](https://cdaweb.gsfc.nasa.gov/misc/NotesP.html#PSP_ISOIS-EPIHI_L2-HET-RATES60))\n",
    "- Parker Solar Probe ISOIS EPI-Lo Level 2 Particle Energy mode ([Info](https://cdaweb.gsfc.nasa.gov/misc/NotesP.html#PSP_ISOIS-EPILO_L2-PE))\n",
    "- SOHO COSTEP-EPHIN Level2 intensity 1 minute data ([Info](https://www.ieap.uni-kiel.de/et/ag-heber/costep/data.php)) [1]\n",
    "- SOHO ERNE-HED Level2 1 minute data ([Info](https://cdaweb.gsfc.nasa.gov/misc/NotesS.html#SOHO_ERNE-HED_L2-1MIN))\n",
    "- **Solar Orbiter EPD EPT Level 3 data ([Info](http://espada.uah.es/epd/EPD_data_overview.php)) [2]**\n",
    "- **Solar Orbiter EPD HET Level 2 data ([Info](http://espada.uah.es/epd/EPD_data_overview.php)) [2]**\n",
    "- STEREO Ahead IMPACT/HET Level 1 Data ([Info](https://cdaweb.gsfc.nasa.gov/misc/NotesS.html#STA_L1_HET)) \n",
    "- STEREO Ahead IMPACT/SEPT Level 2 Data ([Info 1](http://www2.physik.uni-kiel.de/STEREO/data/sept/level2/about.txt), [Info 2](http://www2.physik.uni-kiel.de/STEREO/data/sept/level2/SEPT_L2_description.pdf)) [3]\n",
    "- Wind/3DP SST Electron omnidirectional fluxes 27 keV - 520 keV, often at 24 sec ([Info](https://cdaweb.gsfc.nasa.gov/misc/NotesW.html#WI_SFSP_3DP))\n",
    "- Wind/3DP SST Proton omnidirectional fluxes 70 keV - 6.8 MeV, often at 24 sec ([Info](https://cdaweb.gsfc.nasa.gov/misc/NotesW.html#WI_SOSP_3DP))\n",
    "\n",
    "[1] SOHO COSTEP-EPHIN Level2 intensity 1 minute data is directly obtained through ASCII files from the [server of the instrument team](http://ulysses.physik.uni-kiel.de/costep/level2/).\n",
    "\n",
    "[2] All Solar Orbiter is obtained as CDF files from ESA's [Solar Orbiter Archive (SOAR)](http://soar.esac.esa.int/soar)\n",
    "\n",
    "[3] STEREO IMPACT/SEPT Level 2 data is directly obtained through ASCII files from the [server of the instrument team](http://www2.physik.uni-kiel.de/STEREO/data/sept/level2/)."
   ]
  }
 ],
 "metadata": {
  "kernelspec": {
   "display_name": "Python 3 (ipykernel)",
   "language": "python",
   "name": "python3"
  },
  "language_info": {
   "codemirror_mode": {
    "name": "ipython",
    "version": 3
   },
   "file_extension": ".py",
   "mimetype": "text/x-python",
   "name": "python",
   "nbconvert_exporter": "python",
   "pygments_lexer": "ipython3",
   "version": "3.12.9"
  }
 },
 "nbformat": 4,
 "nbformat_minor": 5
}
